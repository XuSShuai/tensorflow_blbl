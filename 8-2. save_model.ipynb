{
 "cells": [
  {
   "cell_type": "code",
   "execution_count": 4,
   "metadata": {
    "collapsed": false
   },
   "outputs": [],
   "source": [
    "import tensorflow as tf\n",
    "from tensorflow.examples.tutorials.mnist import input_data\n",
    "import os"
   ]
  },
  {
   "cell_type": "code",
   "execution_count": 5,
   "metadata": {
    "collapsed": false
   },
   "outputs": [
    {
     "name": "stdout",
     "output_type": "stream",
     "text": [
      "Extracting ../tensorflow_mooc/data/train-images-idx3-ubyte.gz\n",
      "Extracting ../tensorflow_mooc/data/train-labels-idx1-ubyte.gz\n",
      "Extracting ../tensorflow_mooc/data/t10k-images-idx3-ubyte.gz\n",
      "Extracting ../tensorflow_mooc/data/t10k-labels-idx1-ubyte.gz\n"
     ]
    }
   ],
   "source": [
    "mnist = input_data.read_data_sets(\"../tensorflow_mooc/data/\", one_hot=True)"
   ]
  },
  {
   "cell_type": "code",
   "execution_count": 7,
   "metadata": {
    "collapsed": false
   },
   "outputs": [
    {
     "name": "stdout",
     "output_type": "stream",
     "text": [
      "After     0 step, loss is 12.151404, accuracy is 0.125673\n",
      "After   200 step, loss is 0.789498, accuracy is 0.877800\n",
      "After   400 step, loss is 0.776787, accuracy is 0.878764\n",
      "After   600 step, loss is 0.800563, accuracy is 0.883545\n",
      "After   800 step, loss is 0.689513, accuracy is 0.889091\n",
      "After  1000 step, loss is 0.562078, accuracy is 0.907055\n",
      "After  1200 step, loss is 0.578586, accuracy is 0.905491\n",
      "After  1400 step, loss is 0.616236, accuracy is 0.900527\n",
      "After  1600 step, loss is 0.542358, accuracy is 0.907836\n",
      "After  1800 step, loss is 0.505745, accuracy is 0.911273\n",
      "After  2000 step, loss is 0.636401, accuracy is 0.893073\n"
     ]
    }
   ],
   "source": [
    "BATCH_SIZE = 128\n",
    "STEP = 2000\n",
    "LEARNING_REAT_BASIC = 0.1\n",
    "LEARNING_REAT_DECAY = 0.9\n",
    "MODEL_SAVE_PATH = \"./model/\"\n",
    "MODEL_SAVE_NAME = \"test\"\n",
    "\n",
    "def forward(x):\n",
    "    W1 = tf.Variable(tf.random_normal(shape=[784, 10]))\n",
    "    b1 = tf.Variable(tf.constant(0., shape=[10]))\n",
    "    y_hat = tf.nn.bias_add(tf.matmul(x, W1), b1)\n",
    "    return y_hat\n",
    "    \n",
    "\n",
    "def backward():\n",
    "    x = tf.placeholder(tf.float32, shape=[None, 784])\n",
    "    y = tf.placeholder(tf.float32, shape=[None, 10])\n",
    "    \n",
    "    y_hat = forward(x)\n",
    "\n",
    "    ce_loss = tf.reduce_mean(tf.nn.softmax_cross_entropy_with_logits(logits=y_hat, labels=y))\n",
    "    global_step = tf.Variable(0., trainable=False)\n",
    "    learning_rate = tf.train.exponential_decay(LEARNING_REAT_BASIC, \n",
    "                                               global_step, \n",
    "                                               mnist.train.num_examples//BATCH_SIZE,\n",
    "                                               LEARNING_REAT_DECAY, \n",
    "                                               staircase=False)\n",
    "\n",
    "    train = tf.train.AdamOptimizer(learning_rate=learning_rate).minimize(ce_loss, global_step)\n",
    "    equal_op = tf.equal(tf.argmax(y, 1), tf.argmax(y_hat, 1))\n",
    "    accuracy = tf.reduce_mean(tf.cast(equal_op, tf.float32))\n",
    "    init = tf.global_variables_initializer()\n",
    "\n",
    "    saver = tf.train.Saver()\n",
    "\n",
    "    with tf.Session() as sess:\n",
    "        sess.run(init)\n",
    "        for i in range(STEP+1):\n",
    "            xs, ys = mnist.train.next_batch(BATCH_SIZE)\n",
    "            sess.run(train, feed_dict={x: xs, y: ys})\n",
    "            if i % 200 == 0:\n",
    "                loss_val, acc_value = sess.run([ce_loss, accuracy], feed_dict={x: mnist.train.images, y: mnist.train.labels})\n",
    "                print(\"After %5d step, loss is %.6f, accuracy is %.6f\" % (i, loss_val, acc_value))\n",
    "                saver.save(sess, os.path.join(MODEL_SAVE_PATH, MODEL_SAVE_NAME), global_step)\n",
    "                \n",
    "if __name__ == \"__main__\":\n",
    "    backward()"
   ]
  }
 ],
 "metadata": {
  "kernelspec": {
   "display_name": "Python [conda root]",
   "language": "python",
   "name": "conda-root-py"
  },
  "language_info": {
   "codemirror_mode": {
    "name": "ipython",
    "version": 3
   },
   "file_extension": ".py",
   "mimetype": "text/x-python",
   "name": "python",
   "nbconvert_exporter": "python",
   "pygments_lexer": "ipython3",
   "version": "3.5.2"
  }
 },
 "nbformat": 4,
 "nbformat_minor": 1
}
