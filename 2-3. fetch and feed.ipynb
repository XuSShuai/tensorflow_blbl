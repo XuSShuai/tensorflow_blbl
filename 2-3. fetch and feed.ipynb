{
 "cells": [
  {
   "cell_type": "code",
   "execution_count": 1,
   "metadata": {
    "collapsed": true
   },
   "outputs": [],
   "source": [
    "import tensorflow as tf"
   ]
  },
  {
   "cell_type": "code",
   "execution_count": 2,
   "metadata": {
    "collapsed": false
   },
   "outputs": [
    {
     "name": "stdout",
     "output_type": "stream",
     "text": [
      "[11.0, 90.0]\n"
     ]
    }
   ],
   "source": [
    "a = tf.constant(1.0)\n",
    "b = tf.constant(10.0)\n",
    "c = tf.constant(100.0)\n",
    "add_op = tf.add(a, b)\n",
    "sub_op = tf.subtract(c, b)\n",
    "\n",
    "with tf.Session() as sess:\n",
    "    result = sess.run([add_op, sub_op])\n",
    "    print(result)"
   ]
  },
  {
   "cell_type": "code",
   "execution_count": 3,
   "metadata": {
    "collapsed": false
   },
   "outputs": [
    {
     "name": "stdout",
     "output_type": "stream",
     "text": [
      "[[6. 8.]]\n"
     ]
    }
   ],
   "source": [
    "x = tf.placeholder(tf.float32, shape=[1, 2])\n",
    "y = tf.placeholder(tf.float32, shape=[2, 2])\n",
    "\n",
    "z = tf.matmul(x, y)\n",
    "\n",
    "with tf.Session() as sess:\n",
    "    result = sess.run(z, feed_dict={x:[[1, 2]], y:[[2, 2], [2, 3]]})\n",
    "    print(result)"
   ]
  }
 ],
 "metadata": {
  "kernelspec": {
   "display_name": "Python [conda root]",
   "language": "python",
   "name": "conda-root-py"
  },
  "language_info": {
   "codemirror_mode": {
    "name": "ipython",
    "version": 3
   },
   "file_extension": ".py",
   "mimetype": "text/x-python",
   "name": "python",
   "nbconvert_exporter": "python",
   "pygments_lexer": "ipython3",
   "version": "3.5.2"
  }
 },
 "nbformat": 4,
 "nbformat_minor": 1
}
