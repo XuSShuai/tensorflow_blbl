{
 "cells": [
  {
   "cell_type": "code",
   "execution_count": 1,
   "metadata": {
    "collapsed": true
   },
   "outputs": [],
   "source": [
    "import numpy as np\n",
    "import matplotlib.pyplot as plt\n",
    "import tensorflow as tf"
   ]
  },
  {
   "cell_type": "code",
   "execution_count": 2,
   "metadata": {
    "collapsed": false,
    "scrolled": false
   },
   "outputs": [
    {
     "name": "stdout",
     "output_type": "stream",
     "text": [
      "After    0 steps, loss is 15.064423\n",
      "After  200 steps, loss is 1.984581\n",
      "After  400 steps, loss is 1.504532\n",
      "After  600 steps, loss is 1.333140\n",
      "After  800 steps, loss is 1.250958\n",
      "After 1000 steps, loss is 1.199430\n",
      "After 1200 steps, loss is 1.165712\n",
      "After 1400 steps, loss is 1.150739\n",
      "After 1600 steps, loss is 1.129096\n",
      "After 1800 steps, loss is 1.109001\n"
     ]
    },
    {
     "data": {
      "image/png": "[encoded data removed]",
      "text/plain": [
       "<matplotlib.figure.Figure at 0x203f2f1b400>"
      ]
     },
     "metadata": {},
     "output_type": "display_data"
    }
   ],
   "source": [
    "x_data = np.linspace(-3, 3, 100)[:,np.newaxis]\n",
    "y_noise = np.random.normal(0, 1, x_data.shape)\n",
    "y_data = x_data ** 2 + y_noise\n",
    "\n",
    "def forward(x):\n",
    "    w1 = tf.Variable(tf.random_normal(shape=[1, 10], stddev=0.1))\n",
    "    b1 = tf.Variable(tf.zeros([10]))\n",
    "    a1 = tf.nn.tanh(tf.matmul(x, w1) + b1)\n",
    "    w2 = tf.Variable(tf.random_normal(shape=[10, 1], stddev=0.1))\n",
    "    b2 = tf.Variable(tf.zeros([1]))\n",
    "    y = tf.matmul(a1, w2) + b2\n",
    "    return y\n",
    "\n",
    "x = tf.placeholder(tf.float32, shape=[None, 1])\n",
    "y = tf.placeholder(tf.float32, shape=[None, 1])\n",
    "\n",
    "y_hat = forward(x)\n",
    "\n",
    "loss = tf.reduce_mean(tf.square(y - y_hat))\n",
    "train = tf.train.GradientDescentOptimizer(.1).minimize(loss)\n",
    "\n",
    "init = tf.global_variables_initializer()\n",
    "\n",
    "with tf.Session() as sess:\n",
    "    sess.run(init)\n",
    "    for i in range(2000):\n",
    "        sess.run(train, feed_dict={x: x_data, y: y_data})\n",
    "        if i % 200 == 0:\n",
    "            loss_value = sess.run(loss, feed_dict={x: x_data, y:y_data})\n",
    "            print(\"After %4d steps, loss is %.6f\" % (i, loss_value))\n",
    "    \n",
    "    plt.scatter(x_data, y_data, s=20)\n",
    "    pre = sess.run(y_hat, feed_dict={x: x_data})\n",
    "    plt.plot(x_data, pre, \"r-\", lw=5)\n",
    "    plt.show()"
   ]
  }
 ],
 "metadata": {
  "anaconda-cloud": {},
  "kernelspec": {
   "display_name": "Python [conda root]",
   "language": "python",
   "name": "conda-root-py"
  },
  "language_info": {
   "codemirror_mode": {
    "name": "ipython",
    "version": 3
   },
   "file_extension": ".py",
   "mimetype": "text/x-python",
   "name": "python",
   "nbconvert_exporter": "python",
   "pygments_lexer": "ipython3",
   "version": "3.5.2"
  }
 },
 "nbformat": 4,
 "nbformat_minor": 1
}
