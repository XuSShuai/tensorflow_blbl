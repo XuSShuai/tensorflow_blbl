{
 "cells": [
  {
   "cell_type": "code",
   "execution_count": 3,
   "metadata": {
    "collapsed": false
   },
   "outputs": [
    {
     "name": "stdout",
     "output_type": "stream",
     "text": [
      "WARNING:tensorflow:From D:\\soft\\Ana\\lib\\site-packages\\tensorflow\\contrib\\learn\\python\\learn\\datasets\\base.py:198: retry (from tensorflow.contrib.learn.python.learn.datasets.base) is deprecated and will be removed in a future version.\n",
      "Instructions for updating:\n",
      "Use the retry module or similar alternatives.\n"
     ]
    }
   ],
   "source": [
    "import tensorflow as tf\n",
    "from tensorflow.examples.tutorials.mnist import input_data"
   ]
  },
  {
   "cell_type": "code",
   "execution_count": 6,
   "metadata": {
    "collapsed": false
   },
   "outputs": [
    {
     "name": "stdout",
     "output_type": "stream",
     "text": [
      "Extracting ../tensorflow_mooc/data\\train-images-idx3-ubyte.gz\n",
      "Extracting ../tensorflow_mooc/data\\train-labels-idx1-ubyte.gz\n",
      "Extracting ../tensorflow_mooc/data\\t10k-images-idx3-ubyte.gz\n",
      "Extracting ../tensorflow_mooc/data\\t10k-labels-idx1-ubyte.gz\n"
     ]
    }
   ],
   "source": [
    "mnist = input_data.read_data_sets(\"../tensorflow_mooc/data\", one_hot=True)"
   ]
  },
  {
   "cell_type": "code",
   "execution_count": 7,
   "metadata": {
    "collapsed": true
   },
   "outputs": [],
   "source": [
    "BATCH_SIZE = 512\n",
    "STEP = 2000\n",
    "\n",
    "def forward(x, keep_prob):\n",
    "    W1 = get_weight([784, 1000])\n",
    "    b1 = get_bias([1000])\n",
    "    A1 = tf.nn.relu(tf.nn.bias_add(tf.matmul(x, W1), b1))\n",
    "    A1_dropout = tf.nn.dropout(A1, keep_prob)\n",
    "    W2 = get_weight([1000, 500])\n",
    "    b2 = get_bias([500])\n",
    "    A2 = tf.nn.relu(tf.nn.bias_add(tf.matmul(A1_dropout, W2), b2))\n",
    "    A2_dropout = tf.nn.dropout(A2, keep_prob)\n",
    "    W3 = get_weight([500, 200])\n",
    "    b3 = get_bias([200])\n",
    "    A3 = tf.nn.relu(tf.nn.bias_add(tf.matmul(A2_dropout, W3), b3))\n",
    "    A3_dropout = tf.nn.dropout(A3, keep_prob)\n",
    "    W4 = get_weight([200, 10])\n",
    "    b4 = get_bias([10])\n",
    "    y_hat = tf.nn.bias_add(tf.matmul(A3_dropout, W4), b4)\n",
    "    return y_hat\n",
    "    \n",
    "def get_weight(shape):\n",
    "    return tf.Variable(tf.truncated_normal(shape=shape, stddev=0.1))\n",
    "\n",
    "def get_bias(shape):\n",
    "    return tf.Variable(tf.zeros(shape))\n",
    "\n",
    "def backward(mnist, pro_value):\n",
    "    x = tf.placeholder(tf.float32, shape=[None, 784])\n",
    "    y = tf.placeholder(tf.float32, shape=[None, 10])\n",
    "    keep_prob = tf.placeholder(tf.float32)\n",
    "    y_hat = forward(x, keep_prob)\n",
    "    loss = tf.reduce_mean(tf.nn.softmax_cross_entropy_with_logits(logits=y_hat, labels=y))\n",
    "    equal_op = tf.equal(tf.argmax(y_hat, 1), tf.argmax(y, 1))\n",
    "    accuracy = tf.reduce_mean(tf.cast(equal_op, tf.float32))\n",
    "    train = tf.train.AdamOptimizer(0.01).minimize(loss)\n",
    "    init = tf.global_variables_initializer()\n",
    "    with tf.Session() as sess:\n",
    "        sess.run(init)\n",
    "        for i in range(STEP):\n",
    "            xs, ys = mnist.train.next_batch(BATCH_SIZE)\n",
    "            sess.run(train, feed_dict={x: xs, y: ys, keep_prob: pro_value})\n",
    "            if i % 200 == 0:\n",
    "                loss_val = sess.run(loss, feed_dict={x: xs, y: ys, keep_prob: 1.0})\n",
    "                train_acc = sess.run(accuracy, feed_dict={x:mnist.train.images, y:mnist.train.labels, keep_prob: 1.0})\n",
    "                test_acc = sess.run(accuracy, feed_dict={x:mnist.test.images, y:mnist.test.labels, keep_prob: 1.0})\n",
    "                print(\"After %6d steps, loss is %.6f, train accuracy %.6f, test accuracy %.6f\" % (i, loss_val, train_acc, test_acc))\n",
    "\n",
    "                \n",
    "if __name__ == \"__main__\":\n",
    "    print(\"without dropout\")\n",
    "    print(\"-\" * 50)\n",
    "    backward(mnist, 1.0)\n",
    "    print(\"with dropout, keep_prob=0.5\")\n",
    "    print(\"-\" * 50)\n",
    "    backward(mnist, 0.5)"
   ]
  }
 ],
 "metadata": {
  "anaconda-cloud": {},
  "kernelspec": {
   "display_name": "Python [conda root]",
   "language": "python",
   "name": "conda-root-py"
  },
  "language_info": {
   "codemirror_mode": {
    "name": "ipython",
    "version": 3
   },
   "file_extension": ".py",
   "mimetype": "text/x-python",
   "name": "python",
   "nbconvert_exporter": "python",
   "pygments_lexer": "ipython3",
   "version": "3.5.2"
  }
 },
 "nbformat": 4,
 "nbformat_minor": 1
}
