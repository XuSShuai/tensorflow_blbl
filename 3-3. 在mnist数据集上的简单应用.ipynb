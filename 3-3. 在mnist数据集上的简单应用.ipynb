{
 "cells": [
  {
   "cell_type": "code",
   "execution_count": 1,
   "metadata": {
    "collapsed": false
   },
   "outputs": [
    {
     "name": "stdout",
     "output_type": "stream",
     "text": [
      "WARNING:tensorflow:From D:\\soft\\Ana\\lib\\site-packages\\tensorflow\\contrib\\learn\\python\\learn\\datasets\\base.py:198: retry (from tensorflow.contrib.learn.python.learn.datasets.base) is deprecated and will be removed in a future version.\n",
      "Instructions for updating:\n",
      "Use the retry module or similar alternatives.\n"
     ]
    }
   ],
   "source": [
    "import tensorflow as tf\n",
    "from tensorflow.examples.tutorials.mnist import input_data"
   ]
  },
  {
   "cell_type": "code",
   "execution_count": 2,
   "metadata": {
    "collapsed": false
   },
   "outputs": [
    {
     "name": "stdout",
     "output_type": "stream",
     "text": [
      "WARNING:tensorflow:From <ipython-input-2-1cb289f1bd59>:1: read_data_sets (from tensorflow.contrib.learn.python.learn.datasets.mnist) is deprecated and will be removed in a future version.\n",
      "Instructions for updating:\n",
      "Please use alternatives such as official/mnist/dataset.py from tensorflow/models.\n",
      "WARNING:tensorflow:From D:\\soft\\Ana\\lib\\site-packages\\tensorflow\\contrib\\learn\\python\\learn\\datasets\\mnist.py:260: maybe_download (from tensorflow.contrib.learn.python.learn.datasets.base) is deprecated and will be removed in a future version.\n",
      "Instructions for updating:\n",
      "Please write your own downloading logic.\n",
      "WARNING:tensorflow:From D:\\soft\\Ana\\lib\\site-packages\\tensorflow\\contrib\\learn\\python\\learn\\datasets\\mnist.py:262: extract_images (from tensorflow.contrib.learn.python.learn.datasets.mnist) is deprecated and will be removed in a future version.\n",
      "Instructions for updating:\n",
      "Please use tf.data to implement this functionality.\n",
      "Extracting ../tensorflow_mooc/data/train-images-idx3-ubyte.gz\n",
      "WARNING:tensorflow:From D:\\soft\\Ana\\lib\\site-packages\\tensorflow\\contrib\\learn\\python\\learn\\datasets\\mnist.py:267: extract_labels (from tensorflow.contrib.learn.python.learn.datasets.mnist) is deprecated and will be removed in a future version.\n",
      "Instructions for updating:\n",
      "Please use tf.data to implement this functionality.\n",
      "Extracting ../tensorflow_mooc/data/train-labels-idx1-ubyte.gz\n",
      "WARNING:tensorflow:From D:\\soft\\Ana\\lib\\site-packages\\tensorflow\\contrib\\learn\\python\\learn\\datasets\\mnist.py:110: dense_to_one_hot (from tensorflow.contrib.learn.python.learn.datasets.mnist) is deprecated and will be removed in a future version.\n",
      "Instructions for updating:\n",
      "Please use tf.one_hot on tensors.\n",
      "Extracting ../tensorflow_mooc/data/t10k-images-idx3-ubyte.gz\n",
      "Extracting ../tensorflow_mooc/data/t10k-labels-idx1-ubyte.gz\n",
      "WARNING:tensorflow:From D:\\soft\\Ana\\lib\\site-packages\\tensorflow\\contrib\\learn\\python\\learn\\datasets\\mnist.py:290: DataSet.__init__ (from tensorflow.contrib.learn.python.learn.datasets.mnist) is deprecated and will be removed in a future version.\n",
      "Instructions for updating:\n",
      "Please use alternatives such as official/mnist/dataset.py from tensorflow/models.\n"
     ]
    }
   ],
   "source": [
    "mnist = input_data.read_data_sets(\"../tensorflow_mooc/data/\", one_hot=True)"
   ]
  },
  {
   "cell_type": "code",
   "execution_count": 3,
   "metadata": {
    "collapsed": false
   },
   "outputs": [
    {
     "name": "stdout",
     "output_type": "stream",
     "text": [
      "WARNING:tensorflow:From <ipython-input-3-6721544e1247>:17: softmax_cross_entropy_with_logits (from tensorflow.python.ops.nn_ops) is deprecated and will be removed in a future version.\n",
      "Instructions for updating:\n",
      "\n",
      "Future major versions of TensorFlow will allow gradients to flow\n",
      "into the labels input on backprop by default.\n",
      "\n",
      "See tf.nn.softmax_cross_entropy_with_logits_v2.\n",
      "\n",
      "After     0 step, loss is 391.470612, accuracy is 0.339436\n",
      "After   200 step, loss is 0.600812, accuracy is 0.866345\n",
      "After   400 step, loss is 0.434573, accuracy is 0.889309\n",
      "After   600 step, loss is 0.291431, accuracy is 0.923618\n",
      "After   800 step, loss is 0.281913, accuracy is 0.917745\n",
      "After  1000 step, loss is 0.263938, accuracy is 0.927055\n",
      "After  1200 step, loss is 0.229977, accuracy is 0.938782\n",
      "After  1400 step, loss is 0.305450, accuracy is 0.927764\n",
      "After  1600 step, loss is 0.225817, accuracy is 0.942836\n",
      "After  1800 step, loss is 0.199543, accuracy is 0.949764\n",
      "After  2000 step, loss is 0.201118, accuracy is 0.948000\n"
     ]
    }
   ],
   "source": [
    "BATCH_SIZE = 128\n",
    "STEP = 2000\n",
    "LEARNING_REAT_BASIC = 0.1\n",
    "LEARNING_REAT_DECAY = 0.9\n",
    "\n",
    "x = tf.placeholder(tf.float32, shape=[None, 784])\n",
    "y = tf.placeholder(tf.float32, shape=[None, 10])\n",
    "\n",
    "W1 = tf.Variable(tf.random_normal(shape=[784, 500]))\n",
    "b1 = tf.Variable(tf.constant(0., shape=[500]))\n",
    "a1 = tf.nn.relu(tf.nn.bias_add(tf.matmul(x, W1), b1))\n",
    "W2 = tf.Variable(tf.random_normal(shape=[500, 10]))\n",
    "b2 = tf.Variable(tf.constant(0., shape=[10]))\n",
    "y_hat = tf.nn.bias_add(tf.matmul(a1, W2), b2)\n",
    "\n",
    "\n",
    "ce_loss = tf.reduce_mean(tf.nn.softmax_cross_entropy_with_logits(logits=y_hat, labels=y))\n",
    "global_step = tf.Variable(0., trainable=False)\n",
    "learning_rate = tf.train.exponential_decay(LEARNING_REAT_BASIC, \n",
    "                                           global_step, \n",
    "                                           mnist.train.num_examples//BATCH_SIZE,\n",
    "                                           LEARNING_REAT_DECAY, \n",
    "                                           staircase=False)\n",
    "\n",
    "train = tf.train.AdamOptimizer(learning_rate=learning_rate).minimize(ce_loss, global_step)\n",
    "equal_op = tf.equal(tf.argmax(y, 1), tf.argmax(y_hat, 1))\n",
    "accuracy = tf.reduce_mean(tf.cast(equal_op, tf.float32))\n",
    "init = tf.global_variables_initializer()\n",
    "\n",
    "with tf.Session() as sess:\n",
    "    sess.run(init)\n",
    "    for i in range(STEP+1):\n",
    "        xs, ys = mnist.train.next_batch(BATCH_SIZE)\n",
    "        sess.run(train, feed_dict={x: xs, y: ys})\n",
    "        if i % 200 == 0:\n",
    "            loss_val, acc_value = sess.run([ce_loss, accuracy], feed_dict={x: mnist.train.images, y: mnist.train.labels})\n",
    "            print(\"After %5d step, loss is %.6f, accuracy is %.6f\" % (i, loss_val, acc_value))"
   ]
  }
 ],
 "metadata": {
  "kernelspec": {
   "display_name": "Python [conda root]",
   "language": "python",
   "name": "conda-root-py"
  },
  "language_info": {
   "codemirror_mode": {
    "name": "ipython",
    "version": 3
   },
   "file_extension": ".py",
   "mimetype": "text/x-python",
   "name": "python",
   "nbconvert_exporter": "python",
   "pygments_lexer": "ipython3",
   "version": "3.5.2"
  }
 },
 "nbformat": 4,
 "nbformat_minor": 1
}
