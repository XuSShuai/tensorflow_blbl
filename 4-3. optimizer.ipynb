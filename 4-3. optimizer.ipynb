{
 "cells": [
  {
   "cell_type": "markdown",
   "metadata": {},
   "source": [
    "SGD:\n",
    "\n",
    "$$W = W - \\lambda \\triangledown_W J (W;x^{(i)},y^{(i)})$$"
   ]
  },
  {
   "cell_type": "markdown",
   "metadata": {},
   "source": [
    "Momentum: 保留了对之前更新方向的记忆$\\beta v_{t-1}$，以下的方法都使用了指数加权平均的思想。\n",
    "\n",
    "$$v_t = \\beta v_{t-1} + \\lambda \\triangledown_W J (W)$$\n",
    "$$W = W - v_t$$"
   ]
  },
  {
   "cell_type": "markdown",
   "metadata": {},
   "source": [
    "NAG: 进阶版Momentum，利用即将到达的下一位置（按照原来的惯性大概估算出来$W-\\beta v_{t-1}$）的梯度和之前的梯度当前方向的更新\n",
    "\n",
    "$$v_t = \\beta v_{t-1} + \\lambda \\triangledown_W J (W-\\beta v_{t-1})$$\n",
    "$$W = W - v_t$$"
   ]
  },
  {
   "cell_type": "markdown",
   "metadata": {},
   "source": [
    "Adagrad:可以做到对比较常见的数据类别设置较小的学习率，对比较罕见的数据类别设置比较大的学习率，适合于数据不平衡的data。\n",
    "\n",
    "$$W = W - \\frac{\\lambda}{\\sqrt{\\sum^{T_c}(\\triangledown_W J_t(W))^2} + \\epsilon}\\triangledown_W J (W)$$\n",
    "其中$T_c$为$C$类出现的次数。"
   ]
  }
 ],
 "metadata": {
  "kernelspec": {
   "display_name": "Python [conda root]",
   "language": "python",
   "name": "conda-root-py"
  },
  "language_info": {
   "codemirror_mode": {
    "name": "ipython",
    "version": 3
   },
   "file_extension": ".py",
   "mimetype": "text/x-python",
   "name": "python",
   "nbconvert_exporter": "python",
   "pygments_lexer": "ipython3",
   "version": "3.5.2"
  }
 },
 "nbformat": 4,
 "nbformat_minor": 1
}
