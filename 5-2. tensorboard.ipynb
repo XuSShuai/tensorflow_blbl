{
 "cells": [
  {
   "cell_type": "code",
   "execution_count": 1,
   "metadata": {
    "collapsed": false
   },
   "outputs": [
    {
     "name": "stdout",
     "output_type": "stream",
     "text": [
      "WARNING:tensorflow:From D:\\soft\\Ana\\lib\\site-packages\\tensorflow\\contrib\\learn\\python\\learn\\datasets\\base.py:198: retry (from tensorflow.contrib.learn.python.learn.datasets.base) is deprecated and will be removed in a future version.\n",
      "Instructions for updating:\n",
      "Use the retry module or similar alternatives.\n",
      "Extracting ../tensorflow_mooc/data\\train-images-idx3-ubyte.gz\n",
      "Extracting ../tensorflow_mooc/data\\train-labels-idx1-ubyte.gz\n",
      "Extracting ../tensorflow_mooc/data\\t10k-images-idx3-ubyte.gz\n",
      "Extracting ../tensorflow_mooc/data\\t10k-labels-idx1-ubyte.gz\n"
     ]
    }
   ],
   "source": [
    "import tensorflow as tf\n",
    "from tensorflow.examples.tutorials.mnist import input_data\n",
    "\n",
    "old_v = tf.logging.get_verbosity()\n",
    "tf.logging.set_verbosity(tf.logging.ERROR)\n",
    "mnist = input_data.read_data_sets(\"../tensorflow_mooc/data\", one_hot=True)\n",
    "tf.logging.set_verbosity(old_v)"
   ]
  },
  {
   "cell_type": "code",
   "execution_count": 2,
   "metadata": {
    "collapsed": false
   },
   "outputs": [
    {
     "name": "stdout",
     "output_type": "stream",
     "text": [
      "WARNING:tensorflow:From <ipython-input-2-aa630a9df9f0>:60: softmax_cross_entropy_with_logits (from tensorflow.python.ops.nn_ops) is deprecated and will be removed in a future version.\n",
      "Instructions for updating:\n",
      "\n",
      "Future major versions of TensorFlow will allow gradients to flow\n",
      "into the labels input on backprop by default.\n",
      "\n",
      "See tf.nn.softmax_cross_entropy_with_logits_v2.\n",
      "\n",
      "After      0 steps, loss is 2.288675, train accuracy 0.099164, test accuracy 0.100900\n"
     ]
    }
   ],
   "source": [
    "BATCH_SIZE = 512\n",
    "STEP = 1\n",
    "\n",
    "def forward(x, keep_prob):\n",
    "    with tf.name_scope(\"forward\"):\n",
    "        with tf.name_scope(\"layer-1\"):\n",
    "            with tf.name_scope(\"weight-1\"):\n",
    "                W1 = get_weight([784, 1000])\n",
    "            with tf.name_scope(\"bias-1\"):\n",
    "                b1 = get_bias([1000])\n",
    "            with tf.name_scope(\"XW_plus_b\"):\n",
    "                xw_plus_b = tf.nn.bias_add(tf.matmul(x, W1), b1)\n",
    "            with tf.name_scope(\"relu\"):\n",
    "                A1 = tf.nn.relu(xw_plus_b)\n",
    "            with tf.name_scope(\"dropout\"):\n",
    "                A1_dropout = tf.nn.dropout(A1, keep_prob)\n",
    "        with tf.name_scope(\"layer-2\"):\n",
    "            with tf.name_scope(\"weight-2\"):\n",
    "                W2 = get_weight([1000, 500])\n",
    "            with tf.name_scope(\"bias-2\"):\n",
    "                b2 = get_bias([500])\n",
    "            with tf.name_scope(\"XW_plus_b\"):\n",
    "                xw_plus_b = tf.nn.bias_add(tf.matmul(A1_dropout, W2), b2)\n",
    "            with tf.name_scope(\"relu\"):\n",
    "                A2 = tf.nn.relu(xw_plus_b)\n",
    "            with tf.name_scope(\"dropout\"):\n",
    "                A2_dropout = tf.nn.dropout(A2, keep_prob)\n",
    "        with tf.name_scope(\"layer-3\"):\n",
    "            with tf.name_scope(\"weight-3\"):\n",
    "                W3 = get_weight([500, 200])\n",
    "            with tf.name_scope(\"bias-3\"):\n",
    "                b3 = get_bias([200])\n",
    "            with tf.name_scope(\"XW_plus_b\"):\n",
    "                xw_plus_b = tf.nn.bias_add(tf.matmul(A2_dropout, W3), b3)\n",
    "            with tf.name_scope(\"relu\"):\n",
    "                A3 = tf.nn.relu(xw_plus_b)\n",
    "            with tf.name_scope(\"dropout\"):\n",
    "                A3_dropout = tf.nn.dropout(A3, keep_prob)\n",
    "        with tf.name_scope(\"layer-4\"):\n",
    "            with tf.name_scope(\"weight-4\"):\n",
    "                W4 = get_weight([200, 10])\n",
    "            with tf.name_scope(\"bias-4\"):\n",
    "                b4 = get_bias([10])\n",
    "            y_hat = tf.nn.bias_add(tf.matmul(A3_dropout, W4), b4)\n",
    "    return y_hat\n",
    "    \n",
    "def get_weight(shape):\n",
    "    return tf.Variable(tf.truncated_normal(shape=shape, stddev=0.01))\n",
    "\n",
    "def get_bias(shape):\n",
    "    return tf.Variable(tf.zeros(shape))\n",
    "\n",
    "def backward(mnist):\n",
    "    with tf.name_scope(\"input\"):\n",
    "        x = tf.placeholder(tf.float32, shape=[None, 784], name=\"X_input\")\n",
    "        y = tf.placeholder(tf.float32, shape=[None, 10], name=\"Y_input\")\n",
    "        keep_prob = tf.placeholder(tf.float32, name=\"keep_prob\")\n",
    "    y_hat = forward(x, keep_prob)\n",
    "    with tf.name_scope(\"loss\"):\n",
    "        loss = tf.reduce_mean(tf.nn.softmax_cross_entropy_with_logits(logits=y_hat, labels=y))\n",
    "    with tf.name_scope(\"accuracy\"):\n",
    "        equal_op = tf.equal(tf.argmax(y_hat, 1), tf.argmax(y, 1))\n",
    "        accuracy = tf.reduce_mean(tf.cast(equal_op, tf.float32))\n",
    "    with tf.name_scope(\"train\"):\n",
    "        train = tf.train.AdamOptimizer(0.01).minimize(loss)\n",
    "    init = tf.global_variables_initializer()\n",
    "    with tf.Session() as sess:\n",
    "        sess.run(init)\n",
    "        writer = tf.summary.FileWriter(\"./log/\", sess.graph)\n",
    "        for i in range(STEP):\n",
    "            xs, ys = mnist.train.next_batch(BATCH_SIZE)\n",
    "            sess.run(train, feed_dict={x: xs, y: ys, keep_prob: 1.0})\n",
    "            if i % 200 == 0:\n",
    "                loss_val = sess.run(loss, feed_dict={x: xs, y: ys, keep_prob: 1.0})\n",
    "                train_acc = sess.run(accuracy, feed_dict={x:mnist.train.images, y:mnist.train.labels, keep_prob: 1.0})\n",
    "                test_acc = sess.run(accuracy, feed_dict={x:mnist.test.images, y:mnist.test.labels, keep_prob: 1.0})\n",
    "                print(\"After %6d steps, loss is %.6f, train accuracy %.6f, test accuracy %.6f\" % (i, loss_val, train_acc, test_acc))\n",
    "\n",
    "                \n",
    "if __name__ == \"__main__\":\n",
    "    backward(mnist)"
   ]
  },
  {
   "cell_type": "markdown",
   "metadata": {},
   "source": [
    "*********"
   ]
  },
  {
   "cell_type": "markdown",
   "metadata": {},
   "source": [
    "```python\n",
    "Windows plateform：\n",
    "\n",
    "python -m tensorflow.main --logdir=\"./log/\"\n",
    "```"
   ]
  },
  {
   "cell_type": "markdown",
   "metadata": {},
   "source": [
    "<img src=\"./nb_images/5-2.png\">"
   ]
  }
 ],
 "metadata": {
  "anaconda-cloud": {},
  "kernelspec": {
   "display_name": "Python [conda root]",
   "language": "python",
   "name": "conda-root-py"
  },
  "language_info": {
   "codemirror_mode": {
    "name": "ipython",
    "version": 3
   },
   "file_extension": ".py",
   "mimetype": "text/x-python",
   "name": "python",
   "nbconvert_exporter": "python",
   "pygments_lexer": "ipython3",
   "version": "3.5.2"
  }
 },
 "nbformat": 4,
 "nbformat_minor": 1
}
