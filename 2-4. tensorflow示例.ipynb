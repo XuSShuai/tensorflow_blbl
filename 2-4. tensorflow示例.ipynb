{
 "cells": [
  {
   "cell_type": "code",
   "execution_count": 1,
   "metadata": {
    "collapsed": true
   },
   "outputs": [],
   "source": [
    "import tensorflow as tf\n",
    "import numpy as np"
   ]
  },
  {
   "cell_type": "code",
   "execution_count": 2,
   "metadata": {
    "collapsed": false
   },
   "outputs": [
    {
     "name": "stdout",
     "output_type": "stream",
     "text": [
      "k = 0.00268, b = 0.00500\n",
      "k = 0.10391, b = 0.19644\n",
      "k = 0.10334, b = 0.19819\n",
      "k = 0.10247, b = 0.19867\n",
      "k = 0.10182, b = 0.19902\n",
      "k = 0.10135, b = 0.19927\n"
     ]
    }
   ],
   "source": [
    "x_data = np.random.rand(100).reshape(-1, 1)\n",
    "y_data = x_data * 0.1 + 0.2\n",
    "\n",
    "x = tf.placeholder(tf.float32, shape=[100, 1])\n",
    "y = tf.placeholder(tf.float32, shape=[100, 1])\n",
    "k = tf.Variable(tf.constant(0., shape=[1, 1]), tf.float32)\n",
    "b = tf.Variable(tf.constant(0., shape=[1, 1]), tf.float32)\n",
    "\n",
    "y_hat = tf.matmul(x, k) + b\n",
    "\n",
    "loss = tf.reduce_mean(tf.square(y - y_hat))\n",
    "train_op = tf.train.GradientDescentOptimizer(0.01).minimize(loss)\n",
    "\n",
    "init = tf.global_variables_initializer()\n",
    "\n",
    "with tf.Session() as sess:\n",
    "    sess.run(init)\n",
    "    for i in range(1001):\n",
    "        sess.run(train_op, feed_dict={x:x_data, y:y_data})\n",
    "        if i % 200 == 0:\n",
    "            k_val, b_val = sess.run([k, b], feed_dict={x:x_data, y:y_data})\n",
    "            print(\"k = %.5f, b = %.5f\" % (np.squeeze(k_val), np.squeeze(b_val)))"
   ]
  }
 ],
 "metadata": {
  "kernelspec": {
   "display_name": "Python [conda root]",
   "language": "python",
   "name": "conda-root-py"
  },
  "language_info": {
   "codemirror_mode": {
    "name": "ipython",
    "version": 3
   },
   "file_extension": ".py",
   "mimetype": "text/x-python",
   "name": "python",
   "nbconvert_exporter": "python",
   "pygments_lexer": "ipython3",
   "version": "3.5.2"
  }
 },
 "nbformat": 4,
 "nbformat_minor": 1
}
